{
 "cells": [
  {
   "cell_type": "markdown",
   "metadata": {},
   "source": [
    "# Assignment 3 Python fundamentals"
   ]
  },
  {
   "cell_type": "markdown",
   "metadata": {},
   "source": [
    "## Requirements: (10 pnts)\n",
    "- Add this notebook to ArcGIS Pro\n",
    "- for each of following questions, add and fill a code box with your answer, and run it to get the output\n",
    "- Upload the updated ipynb file as your assignment 3 submission to Moodle\n",
    "- 10 pnts go to on-time submissions "
   ]
  },
  {
   "cell_type": "markdown",
   "metadata": {},
   "source": [
    "### Q1 County name list (15 pnts)\n",
    "- Find out the five parishes in Louisiana with the most population\n",
    "- Create a *list* named *counties* with the five county names (2 pnts)\n",
    "- print the length of the list (3 pnts)\n",
    "- Use a *for loop* to print the county names one by one (10 pnts)\n"
   ]
  },
  {
   "cell_type": "code",
   "execution_count": 1,
   "metadata": {},
   "outputs": [
    {
     "name": "stdout",
     "output_type": "stream",
     "text": [
      "The length of the county list is:  5\n",
      "\n",
      "Printing the name of counties:\n",
      "\n",
      "East Baton Rouge\n",
      "Jefferson\n",
      "Orleans\n",
      "St. Tammany\n",
      "Lafayette\n"
     ]
    }
   ],
   "source": [
    "''' The five parishes in Louisiana with the most population are:\n",
    "    - East Baton Rouge Parish with the population of 450544\n",
    "    - Jefferson Parish with the population of 425884\n",
    "    - Orleans Parish with the population of 369749\n",
    "    - St. Tammany Parish with the population of 273263\n",
    "    - Lafayette Parish with the population of 247866\n",
    "'''\n",
    "\n",
    "#Creating a list named counties\n",
    "counties = [\"East Baton Rouge\", \"Jefferson\", \"Orleans\", \"St. Tammany\",\n",
    "           \"Lafayette\"]\n",
    "\n",
    "#Displaying the length of lists\n",
    "length = len(counties)\n",
    "print (\"The length of the county list is: \", length)\n",
    "\n",
    "#Printing the name of counties\n",
    "print (\"\\nPrinting the name of counties:\\n\")\n",
    "for i in counties:\n",
    "    print (i)"
   ]
  },
  {
   "cell_type": "markdown",
   "metadata": {},
   "source": [
    "### Q2 County population dictionary (15 pnts)\n",
    "- Create a *dictionary* named *county_pop* with the five county names as keys and their populuation as values (2 pnts)\n",
    "- print the population of the county that has the largest population using the dict[key] operator (e.g. county_pop['countyname']) (3 pnts)\n",
    "- print the population of the county that has the least population (2 pnts)\n",
    "- Use a for loop to calculate the total popoulation from the dictionary (hint, for county in county_pop: ... ) (10 pnts)"
   ]
  },
  {
   "cell_type": "code",
   "execution_count": 2,
   "metadata": {},
   "outputs": [
    {
     "name": "stdout",
     "output_type": "stream",
     "text": [
      "Highest population: 450544\n",
      "Least population: 247866\n",
      "The county with the maximum population is East Baton Rouge with 450544 people.\n",
      "The county with the minimum population is Lafayette with 247866 people.\n",
      "The total population of five counties is: 1767306\n"
     ]
    }
   ],
   "source": [
    "#Creating a dictionary for county names and population\n",
    "\n",
    "county_pop = {\n",
    "    \"East Baton Rouge\":450544,\n",
    "    \"Jefferson\":425884,\n",
    "    \"Orleans\":369749,\n",
    "    \"St. Tammany\":273263,\n",
    "    \"Lafayette\":247866\n",
    "}\n",
    "\n",
    "print(\"Highest population:\",county_pop[\"East Baton Rouge\"])\n",
    "print(\"Least population:\",county_pop[\"Lafayette\"])\n",
    "\n",
    "#Dynamic method of getting the county name and maximum and minimum population\n",
    "\n",
    "#Using 'get' to obtain the key for max and min county\n",
    "max_county = max(county_pop, key=county_pop.get)\n",
    "min_county = min(county_pop, key=county_pop.get)\n",
    "\n",
    "#Using the max and min keys to get max and min population\n",
    "maximum = county_pop[max_county]\n",
    "minimum = county_pop[min_county]\n",
    "\n",
    "print(f\"The county with the maximum population is {max_county} with {maximum} people.\")\n",
    "print(f\"The county with the minimum population is {min_county} with {minimum} people.\")\n",
    "\n",
    "#Method 1\n",
    "#Calculating the total population of the 5 counties\n",
    "total_population = 0\n",
    "for county in county_pop:\n",
    "    total_population += county_pop[county]\n",
    "    \n",
    "print (\"The total population of five counties is:\", total_population)\n",
    "\n",
    "#Method 2\n",
    "#population = 0\n",
    "#for county in list(county_pop.values()):\n",
    "#    population = county + population\n",
    "    \n",
    "#print (population)\n"
   ]
  },
  {
   "cell_type": "markdown",
   "metadata": {},
   "source": [
    "### Q3 string formatting (10 pnts)\n",
    "- Use the county_pop dictionary to print the county names and populations as the following formatted string: (10 pnts)\n",
    "county1 has a population of ###\n",
    "county2 has a population of ###\n",
    "...\n",
    "- You can choose to use a for loop or not"
   ]
  },
  {
   "cell_type": "code",
   "execution_count": 3,
   "metadata": {},
   "outputs": [
    {
     "name": "stdout",
     "output_type": "stream",
     "text": [
      "East Baton Rouge Parish has a population of 450544.\n",
      "Jefferson Parish has a population of 425884.\n",
      "Orleans Parish has a population of 369749.\n",
      "St. Tammany Parish has a population of 273263.\n",
      "Lafayette Parish has a population of 247866.\n"
     ]
    }
   ],
   "source": [
    "for county in county_pop:\n",
    "    print (\"{0} Parish has a population of {1}.\".format(county, county_pop[county]))"
   ]
  },
  {
   "cell_type": "markdown",
   "metadata": {},
   "source": [
    "### Q4 shape file names for each county (10 pnts)\n",
    "- Use the counties list as input\n",
    "- For each county, create the string for its shapefile name. For example, county1.shp, county2.shp (hint: use the + operator) (10 pnts)\n",
    "- You can choose to use a for loop or not \n"
   ]
  },
  {
   "cell_type": "code",
   "execution_count": 11,
   "metadata": {},
   "outputs": [
    {
     "name": "stdout",
     "output_type": "stream",
     "text": [
      "East Baton Rouge.shp\n",
      "Jefferson.shp\n",
      "Orleans.shp\n",
      "St. Tammany.shp\n",
      "Lafayette.shp\n",
      "['East Baton Rouge.shp', 'Jefferson.shp', 'Orleans.shp', 'St. Tammany.shp', 'Lafayette.shp']\n"
     ]
    }
   ],
   "source": [
    "countyNewList = []              #creating a new empty list to store the new values\n",
    "for c in counties:              #counties is the original list of county names\n",
    "    c += \".shp\"                 #adding .shp to every element of original list\n",
    "    countyNewList.append(c)     #appending the new element to the new list\n",
    "    print (c)\n",
    "\n",
    "print (countyNewList)"
   ]
  },
  {
   "cell_type": "markdown",
   "metadata": {},
   "source": [
    "### Q5 create a full path name for each county (10 pnts)\n",
    "- Define a variable called *data_path* and store a string as a path name. For example, \"C:/data\" (5 pnts)\n",
    "- Use the os.path.join() function to create a full path name for each county. For example, \"C:/data/county1.shp\" (5 pnts)\n",
    "- Required: you have to use a for...loop on this question"
   ]
  },
  {
   "cell_type": "code",
   "execution_count": 18,
   "metadata": {},
   "outputs": [
    {
     "name": "stdout",
     "output_type": "stream",
     "text": [
      "East Baton Rouge.shp\n",
      "C:\\Basant\\GEOG 4057\\Documents\\programming\\geog4057_Basant\n",
      "Jefferson.shp\n",
      "C:\\Basant\\GEOG 4057\\Documents\\programming\\geog4057_Basant\n",
      "Orleans.shp\n",
      "C:\\Basant\\GEOG 4057\\Documents\\programming\\geog4057_Basant\n",
      "St. Tammany.shp\n",
      "C:\\Basant\\GEOG 4057\\Documents\\programming\\geog4057_Basant\n",
      "Lafayette.shp\n",
      "C:\\Basant\\GEOG 4057\\Documents\\programming\\geog4057_Basant\n"
     ]
    }
   ],
   "source": [
    "import os\n",
    "data_path = \"C:\\Basant\\GEOG 4057\\Documents\\programming\\geog4057_Basant\"\n",
    "for c in countyNewList:\n",
    "    print (c)\n",
    "    os.path.join(data_path, c)\n",
    "    print (data_path)"
   ]
  },
  {
   "cell_type": "markdown",
   "metadata": {},
   "source": [
    "### Q6 Define a function (30 pnts)\n",
    "- Define a function called countPopulation (5 pnts)\n",
    "- Define the function's docstring using the triple quotes with following content:(5 pnts)\n",
    "  <q>Compute the total populatoin of the counties in the dictionary \n",
    "   GEOG 4057 GIS Programming</q>\n",
    "\n",
    "- Complete the fucntion so it can return the value of total population (10 pnts)\n",
    "- print the function's docstring using the dunder doc attribute (5 pnts)\n",
    "- Call the function from the code block to print the total population (5 pnts)"
   ]
  }
 ],
 "metadata": {
  "kernelspec": {
   "display_name": "ArcGISPro",
   "language": "Python",
   "name": "arcpyclone"
  },
  "language_info": {
   "file_extension": ".py",
   "name": "python",
   "version": "3"
  }
 },
 "nbformat": 4,
 "nbformat_minor": 2
}
